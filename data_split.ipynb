{
 "cells": [
  {
   "cell_type": "code",
   "execution_count": 3,
   "metadata": {},
   "outputs": [
    {
     "name": "stdout",
     "output_type": "stream",
     "text": [
      "복사가 완료되었습니다.\n"
     ]
    }
   ],
   "source": [
    "import os\n",
    "import shutil\n",
    "\n",
    "source_dir = '/DATA/datasets/step3_1/test'\n",
    "destination_dir = '/DATA/datasets/step3_1_test/test'\n",
    "substract_num = 100\n",
    "\n",
    "os.makedirs(destination_dir, exist_ok=True)\n",
    "\n",
    "\n",
    "image_folder = [file for file in os.listdir(source_dir) if file.endswith('.jpg')][:substract_num]\n",
    "image_folder = sorted(image_folder)\n",
    "\n",
    "for file_name in image_folder:\n",
    "    source_file_image = os.path.join(source_dir, file_name)\n",
    "    destination_file_image = os.path.join(destination_dir, file_name)\n",
    "    shutil.copyfile(source_file_image, destination_file_image)\n",
    "\n",
    "    # txt_file_name = os.path.splitext(file_name)[0] + '.txt'\n",
    "    # source_file_txt = os.path.join(source_dir, txt_file_name)\n",
    "    # destination_file_txt = os.path.join(destination_dir, txt_file_name)\n",
    "    # shutil.copyfile(source_file_txt, destination_file_txt)\n",
    "\n",
    "print(\"복사가 완료되었습니다.\")\n"
   ]
  },
  {
   "cell_type": "code",
   "execution_count": 4,
   "metadata": {},
   "outputs": [
    {
     "data": {
      "text/plain": [
       "100"
      ]
     },
     "execution_count": 4,
     "metadata": {},
     "output_type": "execute_result"
    }
   ],
   "source": [
    "import os\n",
    "\n",
    "\n",
    "len(os.listdir(destination_dir))"
   ]
  }
 ],
 "metadata": {
  "kernelspec": {
   "display_name": "base",
   "language": "python",
   "name": "python3"
  },
  "language_info": {
   "codemirror_mode": {
    "name": "ipython",
    "version": 3
   },
   "file_extension": ".py",
   "mimetype": "text/x-python",
   "name": "python",
   "nbconvert_exporter": "python",
   "pygments_lexer": "ipython3",
   "version": "3.11.5"
  }
 },
 "nbformat": 4,
 "nbformat_minor": 2
}
